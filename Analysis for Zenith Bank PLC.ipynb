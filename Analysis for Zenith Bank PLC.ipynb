{
 "cells": [
  {
   "cell_type": "code",
   "execution_count": 5,
   "id": "c61070c7-7220-4524-8330-97251316bb2a",
   "metadata": {},
   "outputs": [],
   "source": [
    "import pandas as pd\n",
    "import requests\n",
    "import pandas as pd\n",
    "import matplotlib.pyplot as plt\n",
    "from datetime import datetime, timedelta\n",
    "import json\n",
    "import numpy as np\n",
    "import matplotlib.dates as mdates\n",
    "import seaborn as sns\n",
    "from scipy import stats"
   ]
  },
  {
   "cell_type": "code",
   "execution_count": 3,
   "id": "2638d3e2-8e2b-465c-8c01-a9981c6589eb",
   "metadata": {},
   "outputs": [
    {
     "ename": "NameError",
     "evalue": "name 'pd' is not defined",
     "output_type": "error",
     "traceback": [
      "\u001b[1;31m---------------------------------------------------------------------------\u001b[0m",
      "\u001b[1;31mNameError\u001b[0m                                 Traceback (most recent call last)",
      "Cell \u001b[1;32mIn[3], line 7\u001b[0m\n\u001b[0;32m      4\u001b[0m file_path \u001b[38;5;241m=\u001b[39m \u001b[38;5;124mr\u001b[39m\u001b[38;5;124m\"\u001b[39m\u001b[38;5;124mC:\u001b[39m\u001b[38;5;124m\\\u001b[39m\u001b[38;5;124mUsers\u001b[39m\u001b[38;5;124m\\\u001b[39m\u001b[38;5;124mmoses\u001b[39m\u001b[38;5;124m\\\u001b[39m\u001b[38;5;124mOneDrive\u001b[39m\u001b[38;5;124m\\\u001b[39m\u001b[38;5;124mDesktop\u001b[39m\u001b[38;5;124m\\\u001b[39m\u001b[38;5;124mProject Folder\u001b[39m\u001b[38;5;124m\\\u001b[39m\u001b[38;5;124mStock Data for Zenith Bank 2020 - 2025.csv\u001b[39m\u001b[38;5;124m\"\u001b[39m\n\u001b[0;32m      6\u001b[0m \u001b[38;5;66;03m# Load the CSV file into a DataFrame\u001b[39;00m\n\u001b[1;32m----> 7\u001b[0m df \u001b[38;5;241m=\u001b[39m pd\u001b[38;5;241m.\u001b[39mread_csv(file_path, parse_dates\u001b[38;5;241m=\u001b[39m[\u001b[38;5;124m'\u001b[39m\u001b[38;5;124mDate\u001b[39m\u001b[38;5;124m'\u001b[39m])\n\u001b[0;32m      9\u001b[0m \u001b[38;5;66;03m# Set the 'Date' column as the index (optional but useful for time series)\u001b[39;00m\n\u001b[0;32m     10\u001b[0m df\u001b[38;5;241m.\u001b[39mset_index(\u001b[38;5;124m'\u001b[39m\u001b[38;5;124mDate\u001b[39m\u001b[38;5;124m'\u001b[39m, inplace\u001b[38;5;241m=\u001b[39m\u001b[38;5;28;01mTrue\u001b[39;00m)\n",
      "\u001b[1;31mNameError\u001b[0m: name 'pd' is not defined"
     ]
    }
   ],
   "source": [
    "# === 1. Import Your CSV Data ===\n",
    "\n",
    "# Raw string format to handle backslashes and spaces in the file path\n",
    "file_path = r\"C:\\Users\\moses\\OneDrive\\Desktop\\Project Folder\\Stock Data for Zenith Bank 2020 - 2025.csv\"\n",
    "\n",
    "# Load the CSV file into a DataFrame\n",
    "df = pd.read_csv(file_path, parse_dates=['Date'])\n",
    "\n",
    "# Set the 'Date' column as the index (optional but useful for time series)\n",
    "df.set_index('Date', inplace=True)\n",
    "# Set plot styles\n",
    "plt.style.use('fivethirtyeight')\n",
    "sns.set_style('whitegrid')\n",
    "\n",
    "# Sort by date just in case\n",
    "df.sort_index(inplace=True)\n",
    "# === 2. Calculate Moving Averages ===\n",
    "df['MA10'] = df['Price'].rolling(window=10).mean()\n",
    "df['MA50'] = df['Price'].rolling(window=50).mean()\n",
    "\n",
    "# === 3. Generate Buy/Sell Signals ===\n",
    "df['Signal'] = 0\n",
    "df['Signal'] = np.where(df['MA10'] > df['MA50'], 1, 0)  # 1 = Buy, 0 = Hold/Sell\n",
    "df['Position'] = df['Signal'].diff()  # 1 = Buy signal, -1 = Sell signal\n",
    "\n",
    "# === 4. Calculate Returns ===\n",
    "df['Returns'] = df['Price'].pct_change()\n",
    "df['Strategy_Returns'] = df['Signal'].shift(1) * df['Returns']\n",
    "\n",
    "# === 5. Calculate Cumulative Returns ===\n",
    "df['Cumulative_Returns'] = (1 + df['Returns']).cumprod()\n",
    "df['Strategy_Cumulative_Returns'] = (1 + df['Strategy_Returns']).cumprod()\n",
    "\n",
    "# === 6. Plot the Results ===\n",
    "fig, (ax1, ax2) = plt.subplots(2, 1, figsize=(14, 12))\n",
    "\n",
    "# --- Price Chart with MAs & Signals ---\n",
    "ax1.plot(df.index, df['Price'], label='Price', alpha=0.7)\n",
    "ax1.plot(df.index, df['MA10'], label='10-day MA', alpha=0.9)\n",
    "ax1.plot(df.index, df['MA50'], label='50-day MA', alpha=0.9)\n",
    "\n",
    "# Plot buy signals\n",
    "ax1.plot(df[df['Position'] == 1].index,\n",
    "         df['MA10'][df['Position'] == 1],\n",
    "         '^', markersize=10, color='g', label='Buy Signal')\n",
    "\n",
    "# Plot sell signals\n",
    "ax1.plot(df[df['Position'] == -1].index,\n",
    "         df['MA10'][df['Position'] == -1],\n",
    "         'v', markersize=10, color='r', label='Sell Signal')\n",
    "\n",
    "ax1.set_title('MTN Nigeria: MA Crossover Strategy')\n",
    "ax1.set_ylabel('Price (NGN)')\n",
    "ax1.legend()\n",
    "ax1.grid(True)\n",
    "\n",
    "# --- Cumulative Returns Chart ---\n",
    "ax2.plot(df.index, df['Cumulative_Returns'], label='Buy and Hold', alpha=0.7)\n",
    "ax2.plot(df.index, df['Strategy_Cumulative_Returns'], label='MA Strategy', alpha=0.7)\n",
    "ax2.set_title('Cumulative Returns: Strategy vs. Buy & Hold')\n",
    "ax2.set_ylabel('Cumulative Returns')\n",
    "ax2.legend()\n",
    "ax2.grid(True)\n",
    "\n",
    "plt.tight_layout()\n",
    "plt.show()"
   ]
  },
  {
   "cell_type": "code",
   "execution_count": null,
   "id": "91a8b84f-a251-4527-8541-27210305aac2",
   "metadata": {},
   "outputs": [],
   "source": []
  }
 ],
 "metadata": {
  "kernelspec": {
   "display_name": "Python [conda env:base] *",
   "language": "python",
   "name": "conda-base-py"
  },
  "language_info": {
   "codemirror_mode": {
    "name": "ipython",
    "version": 3
   },
   "file_extension": ".py",
   "mimetype": "text/x-python",
   "name": "python",
   "nbconvert_exporter": "python",
   "pygments_lexer": "ipython3",
   "version": "3.12.7"
  }
 },
 "nbformat": 4,
 "nbformat_minor": 5
}
